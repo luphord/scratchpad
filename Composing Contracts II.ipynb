{
 "cells": [
  {
   "cell_type": "markdown",
   "metadata": {},
   "source": [
    "# Composing Contracts II\n",
    "\n",
    "Toying with ideas from [How to Write a Financial Contract](http://citeseerx.ist.psu.edu/viewdoc/summary?doi=10.1.1.14.7885) by S. L. Peyton Jones and J-M. Eber. There is an old version of the paper [Composing Contracts:An Adventure in Financial Engineering](https://www.cs.tufts.edu/~nr/cs257/archive/simon-peyton-jones/contracts.pdf) by Jones, Eber and Seward. Some code for this version can be found in [Composing Contracts](./Composing%20Contracts.ipynb)."
   ]
  },
  {
   "cell_type": "code",
   "execution_count": 1,
   "metadata": {},
   "outputs": [],
   "source": [
    "from typing import TypeVar, Generic\n",
    "from dataclasses import dataclass, asdict, astuple\n",
    "from abc import ABC, abstractmethod\n",
    "from datetime import datetime"
   ]
  },
  {
   "cell_type": "code",
   "execution_count": 2,
   "metadata": {},
   "outputs": [],
   "source": [
    "class ObservableFloat(ABC):\n",
    "    pass\n",
    "\n",
    "class ObservableBool(ABC):\n",
    "    pass"
   ]
  },
  {
   "cell_type": "code",
   "execution_count": 3,
   "metadata": {},
   "outputs": [],
   "source": [
    "@dataclass\n",
    "class Konst(ObservableFloat):\n",
    "    constant: float\n",
    "\n",
    "@dataclass\n",
    "class Stock(ObservableFloat):\n",
    "    ticker: str"
   ]
  },
  {
   "cell_type": "code",
   "execution_count": 4,
   "metadata": {},
   "outputs": [],
   "source": [
    "T = TypeVar('T')\n",
    "\n",
    "class ObservableFloatVisitor(ABC, Generic[T]):\n",
    "    \n",
    "    @abstractmethod\n",
    "    def konst(self, constant: float) -> T: pass\n",
    "\n",
    "    def stock(self, ticker: str) -> T: pass\n",
    "    \n",
    "    def __call__(self, observable: ObservableFloat) -> T:\n",
    "        if isinstance(observable, Konst):\n",
    "            return self.konst(observable.constant)\n",
    "        elif isinstance(observable, Stock):\n",
    "            return self.stock(observable.ticker)\n",
    "        else:\n",
    "            raise TypeError(f'Unknown observable float type \"{type(contract).__name__}\"')"
   ]
  },
  {
   "cell_type": "code",
   "execution_count": 5,
   "metadata": {},
   "outputs": [],
   "source": [
    "class Contract(ABC):\n",
    "    pass"
   ]
  },
  {
   "cell_type": "code",
   "execution_count": 6,
   "metadata": {},
   "outputs": [],
   "source": [
    "@dataclass\n",
    "class Zero(Contract):\n",
    "    pass\n",
    "\n",
    "@dataclass\n",
    "class One(Contract):\n",
    "    currency: str\n",
    "\n",
    "@dataclass\n",
    "class Give(Contract):\n",
    "    contract: Contract\n",
    "\n",
    "@dataclass\n",
    "class And(Contract):\n",
    "    contract1: Contract\n",
    "    contract2: Contract\n",
    "\n",
    "@dataclass\n",
    "class Or(Contract):\n",
    "    contract1: Contract\n",
    "    contract2: Contract\n",
    "\n",
    "@dataclass\n",
    "class Cond(Contract):\n",
    "    observable: ObservableBool\n",
    "    contract1: Contract\n",
    "    contract2: Contract    \n",
    "\n",
    "@dataclass\n",
    "class Scale(Contract):\n",
    "    observable: ObservableFloat\n",
    "    contract: Contract\n",
    "\n",
    "@dataclass\n",
    "class When(Contract):\n",
    "    observable: ObservableBool\n",
    "    contract: Contract\n",
    "\n",
    "@dataclass\n",
    "class Anytime(Contract):\n",
    "    observable: ObservableBool\n",
    "    contract: Contract\n",
    "\n",
    "@dataclass\n",
    "class Until(Contract):\n",
    "    observable: ObservableBool\n",
    "    contract: Contract"
   ]
  }
 ],
 "metadata": {
  "kernelspec": {
   "display_name": "Python 3",
   "language": "python",
   "name": "python3"
  },
  "language_info": {
   "codemirror_mode": {
    "name": "ipython",
    "version": 3
   },
   "file_extension": ".py",
   "mimetype": "text/x-python",
   "name": "python",
   "nbconvert_exporter": "python",
   "pygments_lexer": "ipython3",
   "version": "3.8.5"
  }
 },
 "nbformat": 4,
 "nbformat_minor": 4
}
