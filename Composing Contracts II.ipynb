{
 "cells": [
  {
   "cell_type": "markdown",
   "metadata": {},
   "source": [
    "# Composing Contracts II\n",
    "\n",
    "Toying with ideas from [How to Write a Financial Contract](http://citeseerx.ist.psu.edu/viewdoc/summary?doi=10.1.1.14.7885) by S. L. Peyton Jones and J-M. Eber. There is an old version of the paper [Composing Contracts:An Adventure in Financial Engineering](https://www.cs.tufts.edu/~nr/cs257/archive/simon-peyton-jones/contracts.pdf) by Jones, Eber and Seward. Some code for this version can be found in [Composing Contracts](./Composing%20Contracts.ipynb)."
   ]
  },
  {
   "cell_type": "code",
   "execution_count": 1,
   "metadata": {},
   "outputs": [],
   "source": [
    "from typing import TypeVar, Generic, Union\n",
    "from dataclasses import dataclass, asdict, astuple\n",
    "from abc import ABC, abstractmethod\n",
    "from datetime import datetime"
   ]
  },
  {
   "cell_type": "markdown",
   "metadata": {},
   "source": [
    "## Observable Floats and Visitor ABC"
   ]
  },
  {
   "cell_type": "code",
   "execution_count": 2,
   "metadata": {},
   "outputs": [],
   "source": [
    "T = TypeVar('T')\n",
    "\n",
    "\n",
    "class ObservableFloat(ABC):\n",
    "\n",
    "    @abstractmethod\n",
    "    def accept(self, visitor: 'ObservableFloatVisitor') -> T:\n",
    "        pass\n",
    "\n",
    "\n",
    "@dataclass\n",
    "class Konst(ObservableFloat):\n",
    "    constant: float\n",
    "\n",
    "    def accept(self, visitor: 'ObservableFloatVisitor') -> T:\n",
    "        return visitor.konst(self.constant)\n",
    "\n",
    "\n",
    "@dataclass\n",
    "class Stock(ObservableFloat):\n",
    "    ticker: str\n",
    "    \n",
    "    def accept(self, visitor: 'ObservableFloatVisitor') -> T:\n",
    "        return visitor.stock(self.ticker)\n",
    "\n",
    "\n",
    "class ObservableFloatVisitor(ABC, Generic[T]):\n",
    "    \n",
    "    @abstractmethod\n",
    "    def konst(self, constant: float) -> T: pass\n",
    "\n",
    "    @abstractmethod\n",
    "    def stock(self, ticker: str) -> T: pass\n",
    "    \n",
    "    def __call__(self, observable: ObservableFloat) -> T:\n",
    "        return observable.accept(self)"
   ]
  },
  {
   "cell_type": "markdown",
   "metadata": {},
   "source": [
    "## Observable Booleans and Visitor ABC"
   ]
  },
  {
   "cell_type": "code",
   "execution_count": 3,
   "metadata": {},
   "outputs": [],
   "source": [
    "T = TypeVar('T')\n",
    "\n",
    "\n",
    "class ObservableBool(ABC):\n",
    "\n",
    "    @abstractmethod\n",
    "    def accept(self, visitor: 'ObservableBoolVisitor') -> T:\n",
    "        pass\n",
    "\n",
    "\n",
    "@dataclass\n",
    "class KonstBool(ObservableBool):\n",
    "    constant: bool\n",
    "\n",
    "    def accept(self, visitor: 'ObservableBoolVisitor') -> T:\n",
    "        return visitor.konst_bool(self.constant)\n",
    "\n",
    "@dataclass\n",
    "class At(ObservableBool):\n",
    "    date: datetime\n",
    "\n",
    "    def accept(self, visitor: 'ObservableBoolVisitor') -> T:\n",
    "        return visitor.at(self.date)\n",
    "\n",
    "\n",
    "class ObservableBoolVisitor(ABC, Generic[T]):\n",
    "    \n",
    "    @abstractmethod\n",
    "    def konst_bool(self, constant: bool) -> T: pass\n",
    "\n",
    "    @abstractmethod\n",
    "    def at(self, date: datetime) -> T: pass\n",
    "    \n",
    "    def __call__(self, observable: ObservableBool) -> T:\n",
    "        return observable.accept(self)"
   ]
  },
  {
   "cell_type": "markdown",
   "metadata": {},
   "source": [
    "## Contracts and Visitor ABC"
   ]
  },
  {
   "cell_type": "code",
   "execution_count": 4,
   "metadata": {},
   "outputs": [],
   "source": [
    "S, T = TypeVar('S'), TypeVar('T')\n",
    "\n",
    "\n",
    "class Contract(ABC):\n",
    "\n",
    "    @abstractmethod\n",
    "    def accept(self, arg: S, visitor: 'ContractVisitor') -> T:\n",
    "        pass\n",
    "\n",
    "\n",
    "@dataclass\n",
    "class Zero(Contract):\n",
    "\n",
    "    def accept(self, arg: S, visitor: 'ContractVisitor') -> T:\n",
    "        return visitor.zero(arg)\n",
    "\n",
    "\n",
    "@dataclass\n",
    "class One(Contract):\n",
    "    currency: str\n",
    "\n",
    "    def accept(self, arg: S, visitor: 'ContractVisitor') -> T:\n",
    "        return visitor.one(arg, self.currency)\n",
    "\n",
    "\n",
    "@dataclass\n",
    "class Give(Contract):\n",
    "    contract: Contract\n",
    "\n",
    "    def accept(self, arg: S, visitor: 'ContractVisitor') -> T:\n",
    "        return visitor.give(arg, self.contract)\n",
    "\n",
    "\n",
    "@dataclass\n",
    "class And(Contract):\n",
    "    contract1: Contract\n",
    "    contract2: Contract\n",
    "\n",
    "    def accept(self, arg: S, visitor: 'ContractVisitor') -> T:\n",
    "        return visitor.and_(arg, self.contract1, self.contract2)\n",
    "\n",
    "\n",
    "@dataclass\n",
    "class Or(Contract):\n",
    "    contract1: Contract\n",
    "    contract2: Contract\n",
    "\n",
    "    def accept(self, arg: S, visitor: 'ContractVisitor') -> T:\n",
    "        return visitor.or_(arg, self.contract1, self.contract2)\n",
    "\n",
    "\n",
    "@dataclass\n",
    "class Cond(Contract):\n",
    "    observable: ObservableBool\n",
    "    contract1: Contract\n",
    "    contract2: Contract\n",
    "\n",
    "    def accept(self, arg: S, visitor: 'ContractVisitor') -> T:\n",
    "        return visitor.cond(arg, self.observable, self.contract1, self.contract2)\n",
    "\n",
    "\n",
    "@dataclass\n",
    "class Scale(Contract):\n",
    "    observable: ObservableFloat\n",
    "    contract: Contract\n",
    "\n",
    "    def accept(self, arg: S, visitor: 'ContractVisitor') -> T:\n",
    "        return visitor.scale(arg, self.observable, self.contract)\n",
    "\n",
    "    \n",
    "@dataclass\n",
    "class When(Contract):\n",
    "    observable: ObservableBool\n",
    "    contract: Contract\n",
    "\n",
    "    def accept(self, arg: S, visitor: 'ContractVisitor') -> T:\n",
    "        return visitor.when(arg, self.observable, self.contract)\n",
    "\n",
    "\n",
    "@dataclass\n",
    "class Anytime(Contract):\n",
    "    observable: ObservableBool\n",
    "    contract: Contract\n",
    "\n",
    "    def accept(self, arg: S, visitor: 'ContractVisitor') -> T:\n",
    "        return visitor.anytime(arg, self.observable, self.contract)\n",
    "\n",
    "\n",
    "@dataclass\n",
    "class Until(Contract):\n",
    "    observable: ObservableBool\n",
    "    contract: Contract\n",
    "\n",
    "    def accept(self, arg: S, visitor: 'ContractVisitor') -> T:\n",
    "        return visitor.until(arg, self.observable, self.contract)\n",
    "\n",
    "\n",
    "class ContractVisitor(ABC, Generic[S, T]):\n",
    "\n",
    "    @abstractmethod\n",
    "    def zero(self, arg: S) -> T: pass\n",
    "\n",
    "    @abstractmethod\n",
    "    def one(self, arg: S, currency: str) -> T: pass\n",
    "\n",
    "    @abstractmethod\n",
    "    def give(self, arg: S, contract: Contract) -> T: pass\n",
    "\n",
    "    @abstractmethod\n",
    "    def and_(self, arg: S, contract1: Contract, contract2: Contract) -> T: pass\n",
    "\n",
    "    @abstractmethod\n",
    "    def or_(self, arg: S, contract1: Contract, contract2: Contract) -> T: pass\n",
    "\n",
    "    @abstractmethod\n",
    "    def cond(self, acquisition_date: datetime, observable: ObservableBool, contract1: Contract, contract2: Contract) -> T: pass\n",
    "\n",
    "    @abstractmethod\n",
    "    def scale(self, arg: S, observable: ObservableFloat, contract: Contract) -> T: pass\n",
    "\n",
    "    @abstractmethod\n",
    "    def when(self, arg: S, observable: ObservableBool, contract: Contract) -> T: pass\n",
    "\n",
    "    @abstractmethod\n",
    "    def anytime(self, arg: S, observable: ObservableBool, contract: Contract) -> T: pass\n",
    "\n",
    "    @abstractmethod\n",
    "    def until(self, arg: S, observable: ObservableBool, contract: Contract) -> T: pass\n",
    "\n",
    "    def __call__(self, arg: S, contract: Contract) -> T:\n",
    "        return contract.accept(arg, self)"
   ]
  },
  {
   "cell_type": "markdown",
   "metadata": {},
   "source": [
    "## A Simple Printer Implementation of Visitors"
   ]
  },
  {
   "cell_type": "code",
   "execution_count": 5,
   "metadata": {},
   "outputs": [],
   "source": [
    "class ObservableFloatPrinter(ObservableFloatVisitor[str]):\n",
    "    def konst(self, constant: float) -> str: return str(constant)\n",
    "    def stock(self, ticker: str) -> str: return f'\"{ticker}\"'"
   ]
  },
  {
   "cell_type": "code",
   "execution_count": 6,
   "metadata": {},
   "outputs": [],
   "source": [
    "class ObservableBoolPrinter(ObservableBoolVisitor[str]):\n",
    "    def konst_bool(self, constant: bool) -> str: return str(constant)\n",
    "    def at(self, date: datetime) -> str: return f'\"{date}\"'"
   ]
  },
  {
   "cell_type": "code",
   "execution_count": 7,
   "metadata": {},
   "outputs": [],
   "source": [
    "class ContractPrinter(ContractVisitor[None, str]):\n",
    "    \n",
    "    def __init__(self,\n",
    "                 observable_float_visitor: ObservableFloatVisitor[str],\n",
    "                 observable_bool_visitor: ObservableBoolVisitor[str]) -> None:\n",
    "        self.observable_float_visitor = observable_float_visitor\n",
    "        self.observable_bool_visitor = observable_bool_visitor\n",
    "    \n",
    "    def zero(self, acquisition_date) -> str: return 'zero'\n",
    "    def one(self, acquisition_date, currency: str) -> str: return f'one {currency}'\n",
    "    def give(self, acquisition_date, contract: Contract) -> str: return f'give ({self(acquisition_date, contract)})'\n",
    "    def and_(self, acquisition_date, contract1: Contract, contract2: Contract) -> str: return f'and ({self(acquisition_date, contract1)}) ({self(acquisition_date, contract2)})'\n",
    "    def or_(self, acquisition_date, contract1: Contract, contract2: Contract) -> str: return f'or ({self(acquisition_date, contract1)}) ({self(acquisition_date, contract2)})'\n",
    "    def cond(self, acquisition_date, observable: ObservableBool, contract1: Contract, contract2: Contract) -> str: return f'cond ({self.observable_bool_visitor(observable)}) ({self(acquisition_date, contract1)}) ({self(acquisition_date, contract2)})'\n",
    "    def scale(self, acquisition_date, observable: ObservableFloat, contract: Contract) -> str: return f'scale {self.observable_float_visitor(observable)} ({self(acquisition_date, contract)})'\n",
    "    def when(self, acquisition_date, observable: ObservableBool, contract: Contract) -> str: return f'when {self.observable_bool_visitor(observable)} ({self(acquisition_date, contract)})'\n",
    "    def anytime(self, acquisition_date, observable: ObservableBool, contract: Contract) -> str: return f'anytime {self.observable_bool_visitor(observable)} ({self(acquisition_date, contract)})'\n",
    "    def until(self, acquisition_date, observable: ObservableBool, contract: Contract) -> str: return f'until {self.observable_bool_visitor(observable)} ({self(acquisition_date, contract)})'\n"
   ]
  },
  {
   "cell_type": "markdown",
   "metadata": {},
   "source": [
    "## Examples"
   ]
  },
  {
   "cell_type": "code",
   "execution_count": 8,
   "metadata": {},
   "outputs": [],
   "source": [
    "def zcb(maturity: datetime, notional: float, currency: str):\n",
    "    return When(At(maturity), Scale(Konst(notional), One(currency)))"
   ]
  },
  {
   "cell_type": "code",
   "execution_count": 9,
   "metadata": {},
   "outputs": [],
   "source": [
    "def european(maturity: datetime, contract: Contract):\n",
    "    return When(At(maturity), Or(contract, Zero()))"
   ]
  },
  {
   "cell_type": "code",
   "execution_count": 10,
   "metadata": {},
   "outputs": [
    {
     "data": {
      "text/plain": [
       "When(observable=At(date=datetime.datetime(2030, 7, 14, 0, 0)), contract=Scale(observable=Konst(constant=1000000), contract=One(currency='EUR')))"
      ]
     },
     "execution_count": 10,
     "metadata": {},
     "output_type": "execute_result"
    }
   ],
   "source": [
    "mybond1 = zcb(datetime(2030, 7, 14), 1000000, 'EUR')\n",
    "mybond1"
   ]
  },
  {
   "cell_type": "code",
   "execution_count": 11,
   "metadata": {},
   "outputs": [
    {
     "data": {
      "text/plain": [
       "'when \"2030-07-14 00:00:00\" (scale 1000000 (one EUR))'"
      ]
     },
     "execution_count": 11,
     "metadata": {},
     "output_type": "execute_result"
    }
   ],
   "source": [
    "printer = ContractPrinter(ObservableFloatPrinter(), ObservableBoolPrinter())\n",
    "printer(None, mybond1)"
   ]
  },
  {
   "cell_type": "code",
   "execution_count": 12,
   "metadata": {},
   "outputs": [
    {
     "data": {
      "text/plain": [
       "{'observable': {'date': datetime.datetime(2030, 7, 14, 0, 0)},\n",
       " 'contract': {'observable': {'constant': 1000000},\n",
       "  'contract': {'currency': 'EUR'}}}"
      ]
     },
     "execution_count": 12,
     "metadata": {},
     "output_type": "execute_result"
    }
   ],
   "source": [
    "asdict(mybond1)"
   ]
  },
  {
   "cell_type": "code",
   "execution_count": 13,
   "metadata": {},
   "outputs": [
    {
     "data": {
      "text/plain": [
       "((datetime.datetime(2030, 7, 14, 0, 0),), ((1000000,), ('EUR',)))"
      ]
     },
     "execution_count": 13,
     "metadata": {},
     "output_type": "execute_result"
    }
   ],
   "source": [
    "astuple(mybond1)"
   ]
  },
  {
   "cell_type": "code",
   "execution_count": 14,
   "metadata": {},
   "outputs": [
    {
     "data": {
      "text/plain": [
       "{'observable': At(date=datetime.datetime(2030, 7, 14, 0, 0)),\n",
       " 'contract': Scale(observable=Konst(constant=1000000), contract=One(currency='EUR'))}"
      ]
     },
     "execution_count": 14,
     "metadata": {},
     "output_type": "execute_result"
    }
   ],
   "source": [
    "dict(**mybond1.__dict__)"
   ]
  },
  {
   "cell_type": "code",
   "execution_count": 15,
   "metadata": {},
   "outputs": [],
   "source": [
    "def european_put(ticker: str, currency: str, maturity: datetime, strike: float):\n",
    "    return When(At(maturity), Or(\n",
    "        And(Give(Scale(Stock(ticker), One(currency))), Scale(Konst(strike), One(currency))),\n",
    "        Zero()))"
   ]
  },
  {
   "cell_type": "code",
   "execution_count": 16,
   "metadata": {},
   "outputs": [
    {
     "data": {
      "text/plain": [
       "When(observable=At(date=datetime.datetime(2030, 7, 14, 0, 0)), contract=Or(contract1=And(contract1=Give(contract=Scale(observable=Stock(ticker='ABC Eqty'), contract=One(currency='USD'))), contract2=Scale(observable=Konst(constant=123.45), contract=One(currency='USD'))), contract2=Zero()))"
      ]
     },
     "execution_count": 16,
     "metadata": {},
     "output_type": "execute_result"
    }
   ],
   "source": [
    "myput1 = european_put('ABC Eqty', 'USD', datetime(2030, 7, 14), 123.45)\n",
    "myput1"
   ]
  },
  {
   "cell_type": "code",
   "execution_count": 17,
   "metadata": {},
   "outputs": [
    {
     "data": {
      "text/plain": [
       "'when \"2030-07-14 00:00:00\" (or (and (give (scale \"ABC Eqty\" (one USD))) (scale 123.45 (one USD))) (zero))'"
      ]
     },
     "execution_count": 17,
     "metadata": {},
     "output_type": "execute_result"
    }
   ],
   "source": [
    "printer(None, myput1)"
   ]
  },
  {
   "cell_type": "markdown",
   "metadata": {},
   "source": [
    "## Simulated Cashflows"
   ]
  },
  {
   "cell_type": "code",
   "execution_count": 18,
   "metadata": {},
   "outputs": [],
   "source": [
    "import numpy as np"
   ]
  },
  {
   "cell_type": "code",
   "execution_count": 19,
   "metadata": {},
   "outputs": [
    {
     "data": {
      "text/plain": [
       "dtype([('date', '<M8[D]'), ('currency', 'S3'), ('value', '<f8')])"
      ]
     },
     "execution_count": 19,
     "metadata": {},
     "output_type": "execute_result"
    }
   ],
   "source": [
    "cashflow_dtype = np.dtype([('date', 'datetime64[D]'), ('currency', np.string_, 3), ('value', np.float64)])\n",
    "cashflow_dtype"
   ]
  },
  {
   "cell_type": "code",
   "execution_count": 20,
   "metadata": {},
   "outputs": [
    {
     "data": {
      "text/plain": [
       "array([[('2030-07-14', b'USD', 123.45)],\n",
       "       [('2031-07-14', b'USD', 123.45)]],\n",
       "      dtype=[('date', '<M8[D]'), ('currency', 'S3'), ('value', '<f8')])"
      ]
     },
     "execution_count": 20,
     "metadata": {},
     "output_type": "execute_result"
    }
   ],
   "source": [
    "cf = np.array([(datetime(2030, 7, 14), 'USD', 123.45), (datetime(2031, 7, 14), 'USD', 123.45)], cashflow_dtype)\n",
    "cf = cf.reshape((cf.size, 1))\n",
    "cf"
   ]
  },
  {
   "cell_type": "code",
   "execution_count": 21,
   "metadata": {},
   "outputs": [
    {
     "data": {
      "text/plain": [
       "(2, 3)"
      ]
     },
     "execution_count": 21,
     "metadata": {},
     "output_type": "execute_result"
    }
   ],
   "source": [
    "multicf = np.concatenate((cf, cf, cf), axis=1)\n",
    "multicf.shape"
   ]
  },
  {
   "cell_type": "code",
   "execution_count": 22,
   "metadata": {},
   "outputs": [
    {
     "data": {
      "text/plain": [
       "array([[False, False, False],\n",
       "       [ True,  True,  True]])"
      ]
     },
     "execution_count": 22,
     "metadata": {},
     "output_type": "execute_result"
    }
   ],
   "source": [
    "multicf['date'] == np.datetime64(datetime(2031, 7, 14))"
   ]
  },
  {
   "cell_type": "code",
   "execution_count": 23,
   "metadata": {},
   "outputs": [
    {
     "data": {
      "text/plain": [
       "array([[('2030-07-14', b'USD', 123.45), ('2030-07-14', b'USD', 123.45),\n",
       "        ('2030-07-14', b'USD', 123.45)],\n",
       "       [('2031-07-14', b'USD', 123.45), ('2031-07-14', b'USD', 123.45),\n",
       "        ('2031-07-14', b'USD', 123.45)]],\n",
       "      dtype=[('date', '<M8[D]'), ('currency', 'S3'), ('value', '<f8')])"
      ]
     },
     "execution_count": 23,
     "metadata": {},
     "output_type": "execute_result"
    }
   ],
   "source": [
    "multicf[multicf['date'] == np.datetime64(datetime(2031, 7, 14))]['value'] = 888 # does not modify\n",
    "multicf"
   ]
  },
  {
   "cell_type": "code",
   "execution_count": 24,
   "metadata": {},
   "outputs": [
    {
     "data": {
      "text/plain": [
       "array([[('2030-07-14', b'USD', 123.45), ('2030-07-14', b'USD', 123.45),\n",
       "        ('2030-07-14', b'USD', 123.45)],\n",
       "       [('2031-07-14', b'USD', 999.  ), ('2031-07-14', b'USD', 999.  ),\n",
       "        ('2031-07-14', b'USD', 999.  )]],\n",
       "      dtype=[('date', '<M8[D]'), ('currency', 'S3'), ('value', '<f8')])"
      ]
     },
     "execution_count": 24,
     "metadata": {},
     "output_type": "execute_result"
    }
   ],
   "source": [
    "multicf['value'][multicf['date'] == np.datetime64(datetime(2031, 7, 14))] = 999 # does modify\n",
    "multicf"
   ]
  },
  {
   "cell_type": "markdown",
   "metadata": {},
   "source": [
    "## Simulated Stochastic Processes"
   ]
  },
  {
   "cell_type": "code",
   "execution_count": 25,
   "metadata": {},
   "outputs": [],
   "source": [
    "import numpy as np\n",
    "\n",
    "\n",
    "class BrownianMotion:\n",
    "    '''Brownian Motion (Wiener Process) with optional drift.'''\n",
    "    def __init__(self, mu: float=0.0, sigma: float=1.0):\n",
    "        self.mu = mu\n",
    "        self.sigma = sigma\n",
    "\n",
    "    def simulate(self, t: np.array, n: int, rnd: np.random.RandomState) \\\n",
    "            -> np.array:\n",
    "        assert t.ndim == 1, 'One dimensional time vector required'\n",
    "        assert t.size > 0, 'At least one time point is required'\n",
    "        dt = np.concatenate((t[0:1], np.diff(t)))\n",
    "        assert (dt >= 0).all(), 'Increasing time vector required'\n",
    "        # transposed simulation for automatic broadcasting\n",
    "        W = rnd.normal(size=(n, t.size))\n",
    "        W_drift = (W * np.sqrt(dt) * self.sigma + self.mu * dt)\n",
    "        return np.cumsum(W_drift, axis=1)\n",
    "\n",
    "\n",
    "class GeometricBrownianMotion:\n",
    "    '''Geometric Brownian Motion.(with optional drift).'''\n",
    "    def __init__(self, mu: float=0.0, sigma: float=1.0):\n",
    "        self.mu = mu\n",
    "        self.sigma = sigma\n",
    "\n",
    "    def simulate(self, t: np.array, n: int, rnd: np.random.RandomState) \\\n",
    "            -> np.array:\n",
    "        assert t.ndim == 1, 'One dimensional time vector required'\n",
    "        assert t.size > 0, 'At least one time point is required'\n",
    "        dt = np.concatenate((t[0:1], np.diff(t)))\n",
    "        assert (dt >= 0).all(), 'Increasing time vector required'\n",
    "        # transposed simulation for automatic broadcasting\n",
    "        dW = (rnd.normal(size=(t.size, n)).T * np.sqrt(dt)).T\n",
    "        W = np.cumsum(dW, axis=0)\n",
    "        return np.exp(self.sigma * W.T + (self.mu - self.sigma**2 / 2) * t)"
   ]
  },
  {
   "cell_type": "markdown",
   "metadata": {},
   "source": [
    "## Fixed Grid Simulation Model"
   ]
  },
  {
   "cell_type": "code",
   "execution_count": 26,
   "metadata": {},
   "outputs": [],
   "source": [
    "class FixedGridSimulationModel(ObservableFloatVisitor[np.array], ObservableBoolVisitor[np.array]):\n",
    "    \n",
    "    def __init__(self, dategrid, simulated_underlyings):\n",
    "        self.dategrid = np.reshape(dategrid, (1, dategrid.size))\n",
    "        self.simulated_underlyings = simulated_underlyings\n",
    "        self.shape = list(self.simulated_underlyings.values())[0].shape\n",
    "    \n",
    "    def mask(self, acquisition_date):\n",
    "        return np.repeat(self.dategrid, self.shape[0], axis=0) == acquisition_date\n",
    "    \n",
    "    def konst(self, constant: float) -> np.array:\n",
    "        return constant * np.ones(self.shape)\n",
    "    \n",
    "    def stock(self, ticker: str) -> np.array:\n",
    "        return self.simulated_underlyings[ticker]\n",
    "    \n",
    "    def konst_bool(self, constant: bool) -> np.array:\n",
    "        return constant * np.ones(self.shape, dtype=np.bool)\n",
    "    \n",
    "    def at(self, date: datetime) -> np.array:\n",
    "        mask = self.dategrid == np.datetime64(date)\n",
    "        assert mask.any(), f'{date} not contained in dategrid'\n",
    "        return np.repeat(mask, self.shape[0], axis=0)"
   ]
  },
  {
   "cell_type": "code",
   "execution_count": 27,
   "metadata": {},
   "outputs": [],
   "source": [
    "class FixedGridSimulationCashflowGenerator(ContractVisitor[Union[datetime, np.array], np.array]):\n",
    "    \n",
    "    def __init__(self, model):\n",
    "        self.model = model\n",
    "        self.N = self.model.shape[0]\n",
    "    \n",
    "    def zero(self, acquisition_date) -> np.array:\n",
    "        cf = np.zeros((N, 1), dtype=cashflow_dtype)\n",
    "        cf['currency'] = 'NNN'\n",
    "        cf['date'] = acquisition_date\n",
    "        return cf\n",
    "\n",
    "    def one(self, acquisition_date, currency: str) -> np.array:\n",
    "        cf = np.ones((N, 1), dtype=cashflow_dtype)\n",
    "        cf['currency'] = currency\n",
    "        cf['date'] = acquisition_date\n",
    "        return cf\n",
    "\n",
    "    def give(self, acquisition_date, contract: Contract) -> np.array:\n",
    "        cf = self(acquisition_date, contract)\n",
    "        cf['value'] *= -1\n",
    "        return cf\n",
    "\n",
    "    def and_(self, acquisition_date, contract1: Contract, contract2: Contract) -> np.array:\n",
    "        cf1 = self(acquisition_date, contract1)\n",
    "        cf2 = self(acquisition_date, contract2)\n",
    "        return np.concatenate((cf1, cf2), axis=1)\n",
    "\n",
    "    def or_(self, acquisition_date, contract1: Contract, contract2: Contract) -> np.array:\n",
    "        raise NotImplementedError()\n",
    "\n",
    "    def cond(self, acquisition_date, observable: ObservableBool, contract1: Contract, contract2: Contract) -> np.array:\n",
    "        raise NotImplementedError()\n",
    "\n",
    "    def scale(self, acquisition_date, observable: ObservableFloat, contract: Contract) -> np.array:\n",
    "        cf = self(acquisition_date, contract)\n",
    "        cf['value'] *= observable.accept(self.model)[self.model.mask(acquisition_date)]\n",
    "        return cf\n",
    "\n",
    "    def when(self, acquisition_date, observable: ObservableBool, contract: Contract) -> np.array:\n",
    "        raise NotImplementedError()\n",
    "\n",
    "    def anytime(self, acquisition_date, observable: ObservableBool, contract: Contract) -> np.array:\n",
    "        raise NotImplementedError()\n",
    "\n",
    "    def until(self, acquisition_date, observable: ObservableBool, contract: Contract) -> np.array:\n",
    "        raise NotImplementedError()\n"
   ]
  },
  {
   "cell_type": "code",
   "execution_count": 28,
   "metadata": {},
   "outputs": [],
   "source": [
    "N = 100\n",
    "rnd = np.random.RandomState(123)\n",
    "T = 5\n",
    "evaldate = np.datetime64('2020-07-14')\n",
    "dategrid = np.array([evaldate + np.timedelta64(i * 365) for i in range(0, 11)])\n",
    "yfgrid = np.cumsum(np.diff(np.concatenate((dategrid[0:1], dategrid))) / 365).astype(np.float64)"
   ]
  },
  {
   "cell_type": "code",
   "execution_count": 29,
   "metadata": {},
   "outputs": [],
   "source": [
    "simulated_underlyings = {\n",
    "    'ABC Eqty': 123 * GeometricBrownianMotion(0.02, 0.2).simulate(yfgrid, N, rnd)\n",
    "}"
   ]
  },
  {
   "cell_type": "code",
   "execution_count": 30,
   "metadata": {},
   "outputs": [],
   "source": [
    "import matplotlib.pyplot as plt"
   ]
  },
  {
   "cell_type": "code",
   "execution_count": 31,
   "metadata": {},
   "outputs": [
    {
     "data": {
      "image/png": "[encoded data removed]",
      "text/plain": [
       "<Figure size 432x288 with 1 Axes>"
      ]
     },
     "metadata": {
      "needs_background": "light"
     },
     "output_type": "display_data"
    }
   ],
   "source": [
    "plt.plot(simulated_underlyings['ABC Eqty'].T);"
   ]
  },
  {
   "cell_type": "code",
   "execution_count": 32,
   "metadata": {},
   "outputs": [],
   "source": [
    "model = FixedGridSimulationModel(dategrid, simulated_underlyings)\n",
    "cashflow_generator = FixedGridSimulationCashflowGenerator(model)"
   ]
  },
  {
   "cell_type": "code",
   "execution_count": 33,
   "metadata": {},
   "outputs": [
    {
     "data": {
      "text/plain": [
       "When(observable=At(date=numpy.datetime64('2030-07-12')), contract=Or(contract1=And(contract1=Give(contract=Scale(observable=Stock(ticker='ABC Eqty'), contract=One(currency='USD'))), contract2=Scale(observable=Konst(constant=123.45), contract=One(currency='USD'))), contract2=Zero()))"
      ]
     },
     "execution_count": 33,
     "metadata": {},
     "output_type": "execute_result"
    }
   ],
   "source": [
    "myput2 = european_put('ABC Eqty', 'USD', dategrid[-1], 123.45)\n",
    "myput2"
   ]
  },
  {
   "cell_type": "code",
   "execution_count": 34,
   "metadata": {},
   "outputs": [
    {
     "data": {
      "text/plain": [
       "(100, 11)"
      ]
     },
     "execution_count": 34,
     "metadata": {},
     "output_type": "execute_result"
    }
   ],
   "source": [
    "Konst(1).accept(model).shape"
   ]
  },
  {
   "cell_type": "code",
   "execution_count": 35,
   "metadata": {},
   "outputs": [
    {
     "data": {
      "text/plain": [
       "(100, 11)"
      ]
     },
     "execution_count": 35,
     "metadata": {},
     "output_type": "execute_result"
    }
   ],
   "source": [
    "model.mask(evaldate).shape"
   ]
  },
  {
   "cell_type": "code",
   "execution_count": 36,
   "metadata": {},
   "outputs": [
    {
     "data": {
      "text/plain": [
       "array([1., 1., 1., 1., 1., 1., 1., 1., 1., 1., 1., 1., 1., 1., 1., 1., 1.,\n",
       "       1., 1., 1., 1., 1., 1., 1., 1., 1., 1., 1., 1., 1., 1., 1., 1., 1.,\n",
       "       1., 1., 1., 1., 1., 1., 1., 1., 1., 1., 1., 1., 1., 1., 1., 1., 1.,\n",
       "       1., 1., 1., 1., 1., 1., 1., 1., 1., 1., 1., 1., 1., 1., 1., 1., 1.,\n",
       "       1., 1., 1., 1., 1., 1., 1., 1., 1., 1., 1., 1., 1., 1., 1., 1., 1.,\n",
       "       1., 1., 1., 1., 1., 1., 1., 1., 1., 1., 1., 1., 1., 1., 1.])"
      ]
     },
     "execution_count": 36,
     "metadata": {},
     "output_type": "execute_result"
    }
   ],
   "source": [
    "Konst(1).accept(model)[model.mask(evaldate)]"
   ]
  },
  {
   "cell_type": "code",
   "execution_count": 37,
   "metadata": {},
   "outputs": [
    {
     "ename": "ValueError",
     "evalue": "non-broadcastable output operand with shape (100,1) doesn't match the broadcast shape (100,100)",
     "output_type": "error",
     "traceback": [
      "\u001b[0;31m---------------------------------------------------------------------------\u001b[0m",
      "\u001b[0;31mValueError\u001b[0m                                Traceback (most recent call last)",
      "\u001b[0;32m<ipython-input-37-fbc26b799b1d>\u001b[0m in \u001b[0;36m<module>\u001b[0;34m\u001b[0m\n\u001b[0;32m----> 1\u001b[0;31m \u001b[0mcashflow_generator\u001b[0m\u001b[0;34m(\u001b[0m\u001b[0mevaldate\u001b[0m\u001b[0;34m,\u001b[0m \u001b[0mAnd\u001b[0m\u001b[0;34m(\u001b[0m\u001b[0mScale\u001b[0m\u001b[0;34m(\u001b[0m\u001b[0mKonst\u001b[0m\u001b[0;34m(\u001b[0m\u001b[0;36m1.23\u001b[0m\u001b[0;34m)\u001b[0m\u001b[0;34m,\u001b[0m \u001b[0mOne\u001b[0m\u001b[0;34m(\u001b[0m\u001b[0;34m'EUR'\u001b[0m\u001b[0;34m)\u001b[0m\u001b[0;34m)\u001b[0m\u001b[0;34m,\u001b[0m \u001b[0mGive\u001b[0m\u001b[0;34m(\u001b[0m\u001b[0mOne\u001b[0m\u001b[0;34m(\u001b[0m\u001b[0;34m'USD'\u001b[0m\u001b[0;34m)\u001b[0m\u001b[0;34m)\u001b[0m\u001b[0;34m)\u001b[0m\u001b[0;34m)\u001b[0m\u001b[0;34m\u001b[0m\u001b[0;34m\u001b[0m\u001b[0m\n\u001b[0m",
      "\u001b[0;32m<ipython-input-4-49a95360b20d>\u001b[0m in \u001b[0;36m__call__\u001b[0;34m(self, arg, contract)\u001b[0m\n\u001b[1;32m    129\u001b[0m \u001b[0;34m\u001b[0m\u001b[0m\n\u001b[1;32m    130\u001b[0m     \u001b[0;32mdef\u001b[0m \u001b[0m__call__\u001b[0m\u001b[0;34m(\u001b[0m\u001b[0mself\u001b[0m\u001b[0;34m,\u001b[0m \u001b[0marg\u001b[0m\u001b[0;34m:\u001b[0m \u001b[0mS\u001b[0m\u001b[0;34m,\u001b[0m \u001b[0mcontract\u001b[0m\u001b[0;34m:\u001b[0m \u001b[0mContract\u001b[0m\u001b[0;34m)\u001b[0m \u001b[0;34m->\u001b[0m \u001b[0mT\u001b[0m\u001b[0;34m:\u001b[0m\u001b[0;34m\u001b[0m\u001b[0;34m\u001b[0m\u001b[0m\n\u001b[0;32m--> 131\u001b[0;31m         \u001b[0;32mreturn\u001b[0m \u001b[0mcontract\u001b[0m\u001b[0;34m.\u001b[0m\u001b[0maccept\u001b[0m\u001b[0;34m(\u001b[0m\u001b[0marg\u001b[0m\u001b[0;34m,\u001b[0m \u001b[0mself\u001b[0m\u001b[0;34m)\u001b[0m\u001b[0;34m\u001b[0m\u001b[0;34m\u001b[0m\u001b[0m\n\u001b[0m",
      "\u001b[0;32m<ipython-input-4-49a95360b20d>\u001b[0m in \u001b[0;36maccept\u001b[0;34m(self, arg, visitor)\u001b[0m\n\u001b[1;32m     38\u001b[0m \u001b[0;34m\u001b[0m\u001b[0m\n\u001b[1;32m     39\u001b[0m     \u001b[0;32mdef\u001b[0m \u001b[0maccept\u001b[0m\u001b[0;34m(\u001b[0m\u001b[0mself\u001b[0m\u001b[0;34m,\u001b[0m \u001b[0marg\u001b[0m\u001b[0;34m:\u001b[0m \u001b[0mS\u001b[0m\u001b[0;34m,\u001b[0m \u001b[0mvisitor\u001b[0m\u001b[0;34m:\u001b[0m \u001b[0;34m'ContractVisitor'\u001b[0m\u001b[0;34m)\u001b[0m \u001b[0;34m->\u001b[0m \u001b[0mT\u001b[0m\u001b[0;34m:\u001b[0m\u001b[0;34m\u001b[0m\u001b[0;34m\u001b[0m\u001b[0m\n\u001b[0;32m---> 40\u001b[0;31m         \u001b[0;32mreturn\u001b[0m \u001b[0mvisitor\u001b[0m\u001b[0;34m.\u001b[0m\u001b[0mand_\u001b[0m\u001b[0;34m(\u001b[0m\u001b[0marg\u001b[0m\u001b[0;34m,\u001b[0m \u001b[0mself\u001b[0m\u001b[0;34m.\u001b[0m\u001b[0mcontract1\u001b[0m\u001b[0;34m,\u001b[0m \u001b[0mself\u001b[0m\u001b[0;34m.\u001b[0m\u001b[0mcontract2\u001b[0m\u001b[0;34m)\u001b[0m\u001b[0;34m\u001b[0m\u001b[0;34m\u001b[0m\u001b[0m\n\u001b[0m\u001b[1;32m     41\u001b[0m \u001b[0;34m\u001b[0m\u001b[0m\n\u001b[1;32m     42\u001b[0m \u001b[0;34m\u001b[0m\u001b[0m\n",
      "\u001b[0;32m<ipython-input-27-795f962b928b>\u001b[0m in \u001b[0;36mand_\u001b[0;34m(self, acquisition_date, contract1, contract2)\u001b[0m\n\u001b[1;32m     23\u001b[0m \u001b[0;34m\u001b[0m\u001b[0m\n\u001b[1;32m     24\u001b[0m     \u001b[0;32mdef\u001b[0m \u001b[0mand_\u001b[0m\u001b[0;34m(\u001b[0m\u001b[0mself\u001b[0m\u001b[0;34m,\u001b[0m \u001b[0macquisition_date\u001b[0m\u001b[0;34m,\u001b[0m \u001b[0mcontract1\u001b[0m\u001b[0;34m:\u001b[0m \u001b[0mContract\u001b[0m\u001b[0;34m,\u001b[0m \u001b[0mcontract2\u001b[0m\u001b[0;34m:\u001b[0m \u001b[0mContract\u001b[0m\u001b[0;34m)\u001b[0m \u001b[0;34m->\u001b[0m \u001b[0mnp\u001b[0m\u001b[0;34m.\u001b[0m\u001b[0marray\u001b[0m\u001b[0;34m:\u001b[0m\u001b[0;34m\u001b[0m\u001b[0;34m\u001b[0m\u001b[0m\n\u001b[0;32m---> 25\u001b[0;31m         \u001b[0mcf1\u001b[0m \u001b[0;34m=\u001b[0m \u001b[0mself\u001b[0m\u001b[0;34m(\u001b[0m\u001b[0macquisition_date\u001b[0m\u001b[0;34m,\u001b[0m \u001b[0mcontract1\u001b[0m\u001b[0;34m)\u001b[0m\u001b[0;34m\u001b[0m\u001b[0;34m\u001b[0m\u001b[0m\n\u001b[0m\u001b[1;32m     26\u001b[0m         \u001b[0mcf2\u001b[0m \u001b[0;34m=\u001b[0m \u001b[0mself\u001b[0m\u001b[0;34m(\u001b[0m\u001b[0macquisition_date\u001b[0m\u001b[0;34m,\u001b[0m \u001b[0mcontract2\u001b[0m\u001b[0;34m)\u001b[0m\u001b[0;34m\u001b[0m\u001b[0;34m\u001b[0m\u001b[0m\n\u001b[1;32m     27\u001b[0m         \u001b[0;32mreturn\u001b[0m \u001b[0mnp\u001b[0m\u001b[0;34m.\u001b[0m\u001b[0mconcatenate\u001b[0m\u001b[0;34m(\u001b[0m\u001b[0;34m(\u001b[0m\u001b[0mcf1\u001b[0m\u001b[0;34m,\u001b[0m \u001b[0mcf2\u001b[0m\u001b[0;34m)\u001b[0m\u001b[0;34m,\u001b[0m \u001b[0maxis\u001b[0m\u001b[0;34m=\u001b[0m\u001b[0;36m1\u001b[0m\u001b[0;34m)\u001b[0m\u001b[0;34m\u001b[0m\u001b[0;34m\u001b[0m\u001b[0m\n",
      "\u001b[0;32m<ipython-input-4-49a95360b20d>\u001b[0m in \u001b[0;36m__call__\u001b[0;34m(self, arg, contract)\u001b[0m\n\u001b[1;32m    129\u001b[0m \u001b[0;34m\u001b[0m\u001b[0m\n\u001b[1;32m    130\u001b[0m     \u001b[0;32mdef\u001b[0m \u001b[0m__call__\u001b[0m\u001b[0;34m(\u001b[0m\u001b[0mself\u001b[0m\u001b[0;34m,\u001b[0m \u001b[0marg\u001b[0m\u001b[0;34m:\u001b[0m \u001b[0mS\u001b[0m\u001b[0;34m,\u001b[0m \u001b[0mcontract\u001b[0m\u001b[0;34m:\u001b[0m \u001b[0mContract\u001b[0m\u001b[0;34m)\u001b[0m \u001b[0;34m->\u001b[0m \u001b[0mT\u001b[0m\u001b[0;34m:\u001b[0m\u001b[0;34m\u001b[0m\u001b[0;34m\u001b[0m\u001b[0m\n\u001b[0;32m--> 131\u001b[0;31m         \u001b[0;32mreturn\u001b[0m \u001b[0mcontract\u001b[0m\u001b[0;34m.\u001b[0m\u001b[0maccept\u001b[0m\u001b[0;34m(\u001b[0m\u001b[0marg\u001b[0m\u001b[0;34m,\u001b[0m \u001b[0mself\u001b[0m\u001b[0;34m)\u001b[0m\u001b[0;34m\u001b[0m\u001b[0;34m\u001b[0m\u001b[0m\n\u001b[0m",
      "\u001b[0;32m<ipython-input-4-49a95360b20d>\u001b[0m in \u001b[0;36maccept\u001b[0;34m(self, arg, visitor)\u001b[0m\n\u001b[1;32m     66\u001b[0m \u001b[0;34m\u001b[0m\u001b[0m\n\u001b[1;32m     67\u001b[0m     \u001b[0;32mdef\u001b[0m \u001b[0maccept\u001b[0m\u001b[0;34m(\u001b[0m\u001b[0mself\u001b[0m\u001b[0;34m,\u001b[0m \u001b[0marg\u001b[0m\u001b[0;34m:\u001b[0m \u001b[0mS\u001b[0m\u001b[0;34m,\u001b[0m \u001b[0mvisitor\u001b[0m\u001b[0;34m:\u001b[0m \u001b[0;34m'ContractVisitor'\u001b[0m\u001b[0;34m)\u001b[0m \u001b[0;34m->\u001b[0m \u001b[0mT\u001b[0m\u001b[0;34m:\u001b[0m\u001b[0;34m\u001b[0m\u001b[0;34m\u001b[0m\u001b[0m\n\u001b[0;32m---> 68\u001b[0;31m         \u001b[0;32mreturn\u001b[0m \u001b[0mvisitor\u001b[0m\u001b[0;34m.\u001b[0m\u001b[0mscale\u001b[0m\u001b[0;34m(\u001b[0m\u001b[0marg\u001b[0m\u001b[0;34m,\u001b[0m \u001b[0mself\u001b[0m\u001b[0;34m.\u001b[0m\u001b[0mobservable\u001b[0m\u001b[0;34m,\u001b[0m \u001b[0mself\u001b[0m\u001b[0;34m.\u001b[0m\u001b[0mcontract\u001b[0m\u001b[0;34m)\u001b[0m\u001b[0;34m\u001b[0m\u001b[0;34m\u001b[0m\u001b[0m\n\u001b[0m\u001b[1;32m     69\u001b[0m \u001b[0;34m\u001b[0m\u001b[0m\n\u001b[1;32m     70\u001b[0m \u001b[0;34m\u001b[0m\u001b[0m\n",
      "\u001b[0;32m<ipython-input-27-795f962b928b>\u001b[0m in \u001b[0;36mscale\u001b[0;34m(self, acquisition_date, observable, contract)\u001b[0m\n\u001b[1;32m     35\u001b[0m     \u001b[0;32mdef\u001b[0m \u001b[0mscale\u001b[0m\u001b[0;34m(\u001b[0m\u001b[0mself\u001b[0m\u001b[0;34m,\u001b[0m \u001b[0macquisition_date\u001b[0m\u001b[0;34m,\u001b[0m \u001b[0mobservable\u001b[0m\u001b[0;34m:\u001b[0m \u001b[0mObservableFloat\u001b[0m\u001b[0;34m,\u001b[0m \u001b[0mcontract\u001b[0m\u001b[0;34m:\u001b[0m \u001b[0mContract\u001b[0m\u001b[0;34m)\u001b[0m \u001b[0;34m->\u001b[0m \u001b[0mnp\u001b[0m\u001b[0;34m.\u001b[0m\u001b[0marray\u001b[0m\u001b[0;34m:\u001b[0m\u001b[0;34m\u001b[0m\u001b[0;34m\u001b[0m\u001b[0m\n\u001b[1;32m     36\u001b[0m         \u001b[0mcf\u001b[0m \u001b[0;34m=\u001b[0m \u001b[0mself\u001b[0m\u001b[0;34m(\u001b[0m\u001b[0macquisition_date\u001b[0m\u001b[0;34m,\u001b[0m \u001b[0mcontract\u001b[0m\u001b[0;34m)\u001b[0m\u001b[0;34m\u001b[0m\u001b[0;34m\u001b[0m\u001b[0m\n\u001b[0;32m---> 37\u001b[0;31m         \u001b[0mcf\u001b[0m\u001b[0;34m[\u001b[0m\u001b[0;34m'value'\u001b[0m\u001b[0;34m]\u001b[0m \u001b[0;34m*=\u001b[0m \u001b[0mobservable\u001b[0m\u001b[0;34m.\u001b[0m\u001b[0maccept\u001b[0m\u001b[0;34m(\u001b[0m\u001b[0mself\u001b[0m\u001b[0;34m.\u001b[0m\u001b[0mmodel\u001b[0m\u001b[0;34m)\u001b[0m\u001b[0;34m[\u001b[0m\u001b[0mself\u001b[0m\u001b[0;34m.\u001b[0m\u001b[0mmodel\u001b[0m\u001b[0;34m.\u001b[0m\u001b[0mmask\u001b[0m\u001b[0;34m(\u001b[0m\u001b[0macquisition_date\u001b[0m\u001b[0;34m)\u001b[0m\u001b[0;34m]\u001b[0m\u001b[0;34m\u001b[0m\u001b[0;34m\u001b[0m\u001b[0m\n\u001b[0m\u001b[1;32m     38\u001b[0m         \u001b[0;32mreturn\u001b[0m \u001b[0mcf\u001b[0m\u001b[0;34m\u001b[0m\u001b[0;34m\u001b[0m\u001b[0m\n\u001b[1;32m     39\u001b[0m \u001b[0;34m\u001b[0m\u001b[0m\n",
      "\u001b[0;31mValueError\u001b[0m: non-broadcastable output operand with shape (100,1) doesn't match the broadcast shape (100,100)"
     ]
    }
   ],
   "source": [
    "cashflow_generator(evaldate, And(Scale(Konst(1.23), One('EUR')), Give(One('USD'))))"
   ]
  },
  {
   "cell_type": "code",
   "execution_count": null,
   "metadata": {},
   "outputs": [],
   "source": []
  }
 ],
 "metadata": {
  "kernelspec": {
   "display_name": "Python 3",
   "language": "python",
   "name": "python3"
  },
  "language_info": {
   "codemirror_mode": {
    "name": "ipython",
    "version": 3
   },
   "file_extension": ".py",
   "mimetype": "text/x-python",
   "name": "python",
   "nbconvert_exporter": "python",
   "pygments_lexer": "ipython3",
   "version": "3.8.5"
  }
 },
 "nbformat": 4,
 "nbformat_minor": 4
}
