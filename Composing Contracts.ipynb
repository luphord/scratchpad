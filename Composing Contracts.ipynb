{
 "cells": [
  {
   "cell_type": "markdown",
   "metadata": {},
   "source": [
    "# Composing Contracts\n",
    "\n",
    "Toying with ideas from [Composing Contracts:An Adventure in Financial Engineering](https://www.cs.tufts.edu/~nr/cs257/archive/simon-peyton-jones/contracts.pdf) by Jones, Eber and Seward."
   ]
  },
  {
   "cell_type": "code",
   "execution_count": 1,
   "metadata": {},
   "outputs": [],
   "source": [
    "from typing import TypeVar, Generic\n",
    "from dataclasses import dataclass, asdict, astuple\n",
    "from abc import ABC, abstractmethod\n",
    "from datetime import datetime"
   ]
  },
  {
   "cell_type": "code",
   "execution_count": 2,
   "metadata": {},
   "outputs": [],
   "source": [
    "class Observable(ABC):\n",
    "    pass"
   ]
  },
  {
   "cell_type": "code",
   "execution_count": 3,
   "metadata": {},
   "outputs": [],
   "source": [
    "@dataclass\n",
    "class Konst(Observable):\n",
    "    constant: float"
   ]
  },
  {
   "cell_type": "code",
   "execution_count": 4,
   "metadata": {},
   "outputs": [],
   "source": [
    "class Contract(ABC):\n",
    "    pass"
   ]
  },
  {
   "cell_type": "code",
   "execution_count": 5,
   "metadata": {},
   "outputs": [],
   "source": [
    "@dataclass\n",
    "class Zero(Contract):\n",
    "    pass\n",
    "\n",
    "@dataclass\n",
    "class One(Contract):\n",
    "    currency: str\n",
    "\n",
    "@dataclass\n",
    "class Give(Contract):\n",
    "    contract: Contract\n",
    "\n",
    "@dataclass\n",
    "class And(Contract):\n",
    "    contract1: Contract\n",
    "    contract2: Contract\n",
    "\n",
    "@dataclass\n",
    "class Or(Contract):\n",
    "    contract1: Contract\n",
    "    contract2: Contract\n",
    "\n",
    "@dataclass\n",
    "class Truncate(Contract):\n",
    "    horizon: datetime\n",
    "    contract: Contract\n",
    "\n",
    "@dataclass\n",
    "class Then(Contract):\n",
    "    contract1: Contract\n",
    "    contract2: Contract\n",
    "\n",
    "@dataclass\n",
    "class Scale(Contract):\n",
    "    observable: Observable\n",
    "    contract: Contract\n",
    "\n",
    "@dataclass\n",
    "class Get(Contract):\n",
    "    contract: Contract\n",
    "\n",
    "@dataclass\n",
    "class Anytime(Contract):\n",
    "    contract: Contract"
   ]
  },
  {
   "cell_type": "code",
   "execution_count": 6,
   "metadata": {},
   "outputs": [],
   "source": [
    "T = TypeVar('T')\n",
    "\n",
    "class ContractVisitor(ABC, Generic[T]):\n",
    "\n",
    "    @abstractmethod\n",
    "    def zero(self) -> T: pass\n",
    "\n",
    "    @abstractmethod\n",
    "    def one(self, currency: str) -> T: pass\n",
    "\n",
    "    @abstractmethod\n",
    "    def give(self, contract: Contract) -> T: pass\n",
    "\n",
    "    @abstractmethod\n",
    "    def and_(self, contract1: Contract, contract2: Contract) -> T: pass\n",
    "\n",
    "    @abstractmethod\n",
    "    def or_(self, contract1: Contract, contract2: Contract) -> T: pass\n",
    "\n",
    "    @abstractmethod\n",
    "    def truncate(self, horizon: datetime, contract: Contract) -> T: pass\n",
    "\n",
    "    @abstractmethod\n",
    "    def then(self, contract1: Contract, contract2: Contract) -> T: pass\n",
    "\n",
    "    @abstractmethod\n",
    "    def scale(self, observable: Observable, contract: Contract) -> T: pass\n",
    "\n",
    "    @abstractmethod\n",
    "    def get(self, contract: Contract) -> T: pass\n",
    "\n",
    "    @abstractmethod\n",
    "    def anytime(self, contract: Contract) -> T: pass\n",
    "\n",
    "    def __call__(self, contract: Contract) -> T:\n",
    "        if isinstance(contract, Zero):\n",
    "            return self.zero()\n",
    "        elif isinstance(contract, One):\n",
    "            return self.one(**contract.__dict__)\n",
    "        elif isinstance(contract, Give):\n",
    "            return self.give(**contract.__dict__)\n",
    "        elif isinstance(contract, And):\n",
    "            return self.and_(**contract.__dict__)\n",
    "        elif isinstance(contract, Or):\n",
    "            return self.or_(**contract.__dict__)\n",
    "        elif isinstance(contract, Truncate):\n",
    "            return self.truncate(**contract.__dict__)\n",
    "        elif isinstance(contract, Then):\n",
    "            return self.then(**contract.__dict__)\n",
    "        elif isinstance(contract, Scale):\n",
    "            return self.scale(**contract.__dict__)\n",
    "        elif isinstance(contract, Get):\n",
    "            return self.get(**contract.__dict__)\n",
    "        elif isinstance(contract, Anytime):\n",
    "            return self.anytime(**contract.__dict__)\n",
    "        else:\n",
    "            raise TypeError(f'Unknown contract type \"{type(contract).__name__}\"')"
   ]
  },
  {
   "cell_type": "code",
   "execution_count": 7,
   "metadata": {},
   "outputs": [],
   "source": [
    "class ContractPrinter(ContractVisitor[str]):\n",
    "    def zero(self) -> str: return 'zero'\n",
    "    def one(self, currency: str) -> str: return f'one {currency}'\n",
    "    def give(self, contract: Contract) -> str: return f'give ({self(contract)})'\n",
    "    def and_(self, contract1: Contract, contract2: Contract) -> str: return f'and ({self(contract1)}) ({self(contract2)})'\n",
    "    def or_(self, contract1: Contract, contract2: Contract) -> str: return f'or ({self(contract1)}) ({self(contract2)})'\n",
    "    def truncate(self, horizon: datetime, contract: Contract) -> str: return f'truncate \"{horizon}\" ({self(contract)})'\n",
    "    def then(self, contract1: Contract, contract2: Contract) -> str: return f'then ({self(contract1)}) ({self(contract2)})'\n",
    "    def scale(self, observable: Observable, contract: Contract) -> str: return f'scale ({observable}) ({self(contract)})'\n",
    "    def get(self, contract: Contract) -> str: return f'get ({self(contract)})'\n",
    "    def anytime(self, contract: Contract) -> str: return f'anytime ({self(contract)})'"
   ]
  },
  {
   "cell_type": "code",
   "execution_count": 8,
   "metadata": {},
   "outputs": [],
   "source": [
    "def scaleK(constant: float, contract: Contract):\n",
    "    return Scale(Konst(constant), contract)"
   ]
  },
  {
   "cell_type": "code",
   "execution_count": 9,
   "metadata": {},
   "outputs": [],
   "source": [
    "def zcb(maturity: datetime, notional: float, currency: str):\n",
    "    return scaleK(notional, Get(Truncate(maturity, One(currency))))"
   ]
  },
  {
   "cell_type": "code",
   "execution_count": 10,
   "metadata": {},
   "outputs": [
    {
     "data": {
      "text/plain": [
       "Scale(observable=Konst(constant=1000000), contract=Get(contract=Truncate(horizon=datetime.datetime(2030, 7, 14, 0, 0), contract=One(currency='EUR'))))"
      ]
     },
     "execution_count": 10,
     "metadata": {},
     "output_type": "execute_result"
    }
   ],
   "source": [
    "mybond1 = zcb(datetime(2030, 7, 14), 1000000, 'EUR')\n",
    "mybond1"
   ]
  },
  {
   "cell_type": "code",
   "execution_count": 11,
   "metadata": {},
   "outputs": [
    {
     "data": {
      "text/plain": [
       "'scale (Konst(constant=1000000)) (get (truncate \"2030-07-14 00:00:00\" (one EUR)))'"
      ]
     },
     "execution_count": 11,
     "metadata": {},
     "output_type": "execute_result"
    }
   ],
   "source": [
    "ContractPrinter()(mybond1)"
   ]
  },
  {
   "cell_type": "code",
   "execution_count": 12,
   "metadata": {},
   "outputs": [
    {
     "data": {
      "text/plain": [
       "{'observable': {'constant': 1000000},\n",
       " 'contract': {'contract': {'horizon': datetime.datetime(2030, 7, 14, 0, 0),\n",
       "   'contract': {'currency': 'EUR'}}}}"
      ]
     },
     "execution_count": 12,
     "metadata": {},
     "output_type": "execute_result"
    }
   ],
   "source": [
    "asdict(mybond1)"
   ]
  },
  {
   "cell_type": "code",
   "execution_count": 13,
   "metadata": {},
   "outputs": [
    {
     "data": {
      "text/plain": [
       "((1000000,), ((datetime.datetime(2030, 7, 14, 0, 0), ('EUR',)),))"
      ]
     },
     "execution_count": 13,
     "metadata": {},
     "output_type": "execute_result"
    }
   ],
   "source": [
    "astuple(mybond1)"
   ]
  },
  {
   "cell_type": "code",
   "execution_count": 14,
   "metadata": {},
   "outputs": [
    {
     "data": {
      "text/plain": [
       "{'observable': Konst(constant=1000000),\n",
       " 'contract': Get(contract=Truncate(horizon=datetime.datetime(2030, 7, 14, 0, 0), contract=One(currency='EUR')))}"
      ]
     },
     "execution_count": 14,
     "metadata": {},
     "output_type": "execute_result"
    }
   ],
   "source": [
    "dict(**mybond1.__dict__)"
   ]
  }
 ],
 "metadata": {
  "kernelspec": {
   "display_name": "Python 3",
   "language": "python",
   "name": "python3"
  },
  "language_info": {
   "codemirror_mode": {
    "name": "ipython",
    "version": 3
   },
   "file_extension": ".py",
   "mimetype": "text/x-python",
   "name": "python",
   "nbconvert_exporter": "python",
   "pygments_lexer": "ipython3",
   "version": "3.8.3"
  }
 },
 "nbformat": 4,
 "nbformat_minor": 4
}
