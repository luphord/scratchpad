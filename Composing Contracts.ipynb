{
 "cells": [
  {
   "cell_type": "markdown",
   "metadata": {},
   "source": [
    "# Composing Contracts\n",
    "\n",
    "Toying with ideas from [Composing Contracts:An Adventure in Financial Engineering](https://www.cs.tufts.edu/~nr/cs257/archive/simon-peyton-jones/contracts.pdf) by Jones, Eber and Seward."
   ]
  },
  {
   "cell_type": "code",
   "execution_count": 34,
   "metadata": {},
   "outputs": [],
   "source": [
    "from typing import TypeVar, Generic\n",
    "from dataclasses import dataclass, asdict, astuple\n",
    "from abc import ABC, abstractmethod\n",
    "from datetime import datetime"
   ]
  },
  {
   "cell_type": "code",
   "execution_count": 2,
   "metadata": {},
   "outputs": [],
   "source": [
    "class Observable(ABC):\n",
    "    pass"
   ]
  },
  {
   "cell_type": "code",
   "execution_count": 3,
   "metadata": {},
   "outputs": [],
   "source": [
    "@dataclass\n",
    "class Konst(Observable):\n",
    "    constant: float"
   ]
  },
  {
   "cell_type": "code",
   "execution_count": 4,
   "metadata": {},
   "outputs": [],
   "source": [
    "class Contract(ABC):\n",
    "    pass"
   ]
  },
  {
   "cell_type": "code",
   "execution_count": 9,
   "metadata": {},
   "outputs": [],
   "source": [
    "@dataclass\n",
    "class Zero(Contract):\n",
    "    pass\n",
    "\n",
    "@dataclass\n",
    "class One(Contract):\n",
    "    currency: str\n",
    "\n",
    "@dataclass\n",
    "class Give(Contract):\n",
    "    contract: Contract\n",
    "\n",
    "@dataclass\n",
    "class And(Contract):\n",
    "    contract1: Contract\n",
    "    contract2: Contract\n",
    "\n",
    "@dataclass\n",
    "class Or(Contract):\n",
    "    contract1: Contract\n",
    "    contract2: Contract\n",
    "\n",
    "@dataclass\n",
    "class Truncate(Contract):\n",
    "    horizon: datetime\n",
    "    contract: Contract\n",
    "\n",
    "@dataclass\n",
    "class Then(Contract):\n",
    "    contract1: Contract\n",
    "    contract2: Contract\n",
    "\n",
    "@dataclass\n",
    "class Scale(Contract):\n",
    "    observable: Observable\n",
    "    contract: Contract\n",
    "\n",
    "@dataclass\n",
    "class Get(Contract):\n",
    "    contract: Contract\n",
    "\n",
    "@dataclass\n",
    "class Anytime(Contract):\n",
    "    contract: Contract"
   ]
  },
  {
   "cell_type": "code",
   "execution_count": 36,
   "metadata": {},
   "outputs": [],
   "source": [
    "T = TypeVar('T')\n",
    "\n",
    "class ContractVisitor(ABC, Generic[T]):\n",
    "\n",
    "    @abstractmethod\n",
    "    def zero() -> T: pass\n",
    "\n",
    "    @abstractmethod\n",
    "    def one(currency: str) -> T: pass\n",
    "\n",
    "    @abstractmethod\n",
    "    def give(contract: Contract) -> T: pass\n",
    "\n",
    "    @abstractmethod\n",
    "    def and_(contract1: Contract, contract2: Contract) -> T: pass\n",
    "\n",
    "    @abstractmethod\n",
    "    def or_(contract1: Contract, contract2: Contract) -> T: pass\n",
    "\n",
    "    @abstractmethod\n",
    "    def truncate(horizon: datetime, contract: Contract) -> T: pass\n",
    "\n",
    "    @abstractmethod\n",
    "    def then(contract1: Contract, contract2: Contract) -> T: pass\n",
    "\n",
    "    @abstractmethod\n",
    "    def scale(observable: Observable, contract: Contract) -> T: pass\n",
    "\n",
    "    @abstractmethod\n",
    "    def get(contract: Contract) -> T: pass\n",
    "\n",
    "    @abstractmethod\n",
    "    def anytime(contract: Contract) -> T: pass\n",
    "\n",
    "    def __call__(self, contract: Contract) -> T:\n",
    "        if isinstance(contract, Zero):\n",
    "            return self.zero()\n",
    "        elif isinstance(contract, One):\n",
    "            return self.one(**contract)"
   ]
  },
  {
   "cell_type": "code",
   "execution_count": 6,
   "metadata": {},
   "outputs": [],
   "source": [
    "def scaleK(constant: float, contract: Contract):\n",
    "    return Scale(Konst(constant), contract.__dict__)"
   ]
  },
  {
   "cell_type": "code",
   "execution_count": 37,
   "metadata": {},
   "outputs": [],
   "source": [
    "def zcb(maturity: datetime, notional: float, currency: str):\n",
    "    return scaleK(notional, Get(Truncate(maturity, One(currency))))"
   ]
  },
  {
   "cell_type": "code",
   "execution_count": null,
   "metadata": {},
   "outputs": [],
   "source": [
    "class ContractPrinter(ContractVisitor[str]):\n",
    "    "
   ]
  },
  {
   "cell_type": "code",
   "execution_count": 27,
   "metadata": {},
   "outputs": [
    {
     "data": {
      "text/plain": [
       "Scale(observable=Konst(constant=1000000), contract=Get(contract=Truncate(horizon=datetime.datetime(2030, 7, 14, 0, 0), contract=One(currency='EUR'))))"
      ]
     },
     "execution_count": 27,
     "metadata": {},
     "output_type": "execute_result"
    }
   ],
   "source": [
    "mybond1 = zcb(datetime(2030, 7, 14), 1000000, 'EUR')\n",
    "mybond1"
   ]
  },
  {
   "cell_type": "code",
   "execution_count": 33,
   "metadata": {},
   "outputs": [
    {
     "data": {
      "text/plain": [
       "{'observable': {'constant': 1000000},\n",
       " 'contract': {'contract': {'horizon': datetime.datetime(2030, 7, 14, 0, 0),\n",
       "   'contract': {'currency': 'EUR'}}}}"
      ]
     },
     "execution_count": 33,
     "metadata": {},
     "output_type": "execute_result"
    }
   ],
   "source": [
    "asdict(mybond1)"
   ]
  },
  {
   "cell_type": "code",
   "execution_count": 35,
   "metadata": {},
   "outputs": [
    {
     "data": {
      "text/plain": [
       "((1000000,), ((datetime.datetime(2030, 7, 14, 0, 0), ('EUR',)),))"
      ]
     },
     "execution_count": 35,
     "metadata": {},
     "output_type": "execute_result"
    }
   ],
   "source": [
    "astuple(mybond1)"
   ]
  },
  {
   "cell_type": "code",
   "execution_count": 31,
   "metadata": {},
   "outputs": [
    {
     "data": {
      "text/plain": [
       "{'observable': Konst(constant=1000000),\n",
       " 'contract': Get(contract=Truncate(horizon=datetime.datetime(2030, 7, 14, 0, 0), contract=One(currency='EUR')))}"
      ]
     },
     "execution_count": 31,
     "metadata": {},
     "output_type": "execute_result"
    }
   ],
   "source": [
    "dict(**mybond1.__dict__)"
   ]
  }
 ],
 "metadata": {
  "kernelspec": {
   "display_name": "Python 3",
   "language": "python",
   "name": "python3"
  },
  "language_info": {
   "codemirror_mode": {
    "name": "ipython",
    "version": 3
   },
   "file_extension": ".py",
   "mimetype": "text/x-python",
   "name": "python",
   "nbconvert_exporter": "python",
   "pygments_lexer": "ipython3",
   "version": "3.7.7"
  }
 },
 "nbformat": 4,
 "nbformat_minor": 4
}
