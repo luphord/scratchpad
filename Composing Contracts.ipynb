{
 "cells": [
  {
   "cell_type": "markdown",
   "metadata": {},
   "source": [
    "# Composing Contracts\n",
    "\n",
    "Toying with ideas from [Composing Contracts:An Adventure in Financial Engineering](https://www.cs.tufts.edu/~nr/cs257/archive/simon-peyton-jones/contracts.pdf) by Jones, Eber and Seward."
   ]
  },
  {
   "cell_type": "code",
   "execution_count": 1,
   "metadata": {},
   "outputs": [],
   "source": [
    "from typing import TypeVar, Generic\n",
    "from dataclasses import dataclass, asdict, astuple\n",
    "from abc import ABC, abstractmethod\n",
    "from datetime import datetime"
   ]
  },
  {
   "cell_type": "code",
   "execution_count": 2,
   "metadata": {},
   "outputs": [],
   "source": [
    "class Observable(ABC):\n",
    "    pass"
   ]
  },
  {
   "cell_type": "code",
   "execution_count": 3,
   "metadata": {},
   "outputs": [],
   "source": [
    "@dataclass\n",
    "class Konst(Observable):\n",
    "    constant: float\n",
    "\n",
    "@dataclass\n",
    "class Stock(Observable):\n",
    "    ticker: str"
   ]
  },
  {
   "cell_type": "code",
   "execution_count": 4,
   "metadata": {},
   "outputs": [],
   "source": [
    "T = TypeVar('T')\n",
    "\n",
    "class ObservableVisitor(ABC, Generic[T]):\n",
    "    \n",
    "    @abstractmethod\n",
    "    def konst(self, constant: float) -> T: pass\n",
    "\n",
    "    def stock(self, ticker: str) -> T: pass\n",
    "    \n",
    "    def __call__(self, observable: Observable) -> T:\n",
    "        if isinstance(observable, Konst):\n",
    "            return self.konst(observable.constant)\n",
    "        elif isinstance(observable, Stock):\n",
    "            return self.stock(observable.ticker)\n",
    "        else:\n",
    "            raise TypeError(f'Unknown observable type \"{type(contract).__name__}\"')"
   ]
  },
  {
   "cell_type": "code",
   "execution_count": 5,
   "metadata": {},
   "outputs": [],
   "source": [
    "class Contract(ABC):\n",
    "    pass"
   ]
  },
  {
   "cell_type": "code",
   "execution_count": 6,
   "metadata": {},
   "outputs": [],
   "source": [
    "@dataclass\n",
    "class Zero(Contract):\n",
    "    pass\n",
    "\n",
    "@dataclass\n",
    "class One(Contract):\n",
    "    currency: str\n",
    "\n",
    "@dataclass\n",
    "class Give(Contract):\n",
    "    contract: Contract\n",
    "\n",
    "@dataclass\n",
    "class And(Contract):\n",
    "    contract1: Contract\n",
    "    contract2: Contract\n",
    "\n",
    "@dataclass\n",
    "class Or(Contract):\n",
    "    contract1: Contract\n",
    "    contract2: Contract\n",
    "\n",
    "@dataclass\n",
    "class Truncate(Contract):\n",
    "    horizon: datetime\n",
    "    contract: Contract\n",
    "\n",
    "@dataclass\n",
    "class Then(Contract):\n",
    "    contract1: Contract\n",
    "    contract2: Contract\n",
    "\n",
    "@dataclass\n",
    "class Scale(Contract):\n",
    "    observable: Observable\n",
    "    contract: Contract\n",
    "\n",
    "@dataclass\n",
    "class Get(Contract):\n",
    "    contract: Contract\n",
    "\n",
    "@dataclass\n",
    "class Anytime(Contract):\n",
    "    contract: Contract"
   ]
  },
  {
   "cell_type": "code",
   "execution_count": 7,
   "metadata": {},
   "outputs": [],
   "source": [
    "T = TypeVar('T')\n",
    "\n",
    "class ContractVisitor(ABC, Generic[T]):\n",
    "\n",
    "    @abstractmethod\n",
    "    def zero(self) -> T: pass\n",
    "\n",
    "    @abstractmethod\n",
    "    def one(self, currency: str) -> T: pass\n",
    "\n",
    "    @abstractmethod\n",
    "    def give(self, contract: Contract) -> T: pass\n",
    "\n",
    "    @abstractmethod\n",
    "    def and_(self, contract1: Contract, contract2: Contract) -> T: pass\n",
    "\n",
    "    @abstractmethod\n",
    "    def or_(self, contract1: Contract, contract2: Contract) -> T: pass\n",
    "\n",
    "    @abstractmethod\n",
    "    def truncate(self, horizon: datetime, contract: Contract) -> T: pass\n",
    "\n",
    "    @abstractmethod\n",
    "    def then(self, contract1: Contract, contract2: Contract) -> T: pass\n",
    "\n",
    "    @abstractmethod\n",
    "    def scale(self, observable: Observable, contract: Contract) -> T: pass\n",
    "\n",
    "    @abstractmethod\n",
    "    def get(self, contract: Contract) -> T: pass\n",
    "\n",
    "    @abstractmethod\n",
    "    def anytime(self, contract: Contract) -> T: pass\n",
    "\n",
    "    def __call__(self, contract: Contract) -> T:\n",
    "        if isinstance(contract, Zero):\n",
    "            return self.zero()\n",
    "        elif isinstance(contract, One):\n",
    "            return self.one(**contract.__dict__)\n",
    "        elif isinstance(contract, Give):\n",
    "            return self.give(**contract.__dict__)\n",
    "        elif isinstance(contract, And):\n",
    "            return self.and_(**contract.__dict__)\n",
    "        elif isinstance(contract, Or):\n",
    "            return self.or_(**contract.__dict__)\n",
    "        elif isinstance(contract, Truncate):\n",
    "            return self.truncate(**contract.__dict__)\n",
    "        elif isinstance(contract, Then):\n",
    "            return self.then(**contract.__dict__)\n",
    "        elif isinstance(contract, Scale):\n",
    "            return self.scale(**contract.__dict__)\n",
    "        elif isinstance(contract, Get):\n",
    "            return self.get(**contract.__dict__)\n",
    "        elif isinstance(contract, Anytime):\n",
    "            return self.anytime(**contract.__dict__)\n",
    "        else:\n",
    "            raise TypeError(f'Unknown contract type \"{type(contract).__name__}\"')"
   ]
  },
  {
   "cell_type": "code",
   "execution_count": 8,
   "metadata": {},
   "outputs": [],
   "source": [
    "class ObservablePrinter(ObservableVisitor[str]):\n",
    "    def konst(self, constant: float) -> str: return str(constant)\n",
    "    def stock(self, ticker: str) -> str: return f'\"{ticker}\"'"
   ]
  },
  {
   "cell_type": "code",
   "execution_count": 9,
   "metadata": {},
   "outputs": [],
   "source": [
    "class ContractPrinter(ContractVisitor[str]):\n",
    "    \n",
    "    def __init__(self, observable_visitor: ObservableVisitor) -> None:\n",
    "        self.observable_visitor = observable_visitor\n",
    "    \n",
    "    def zero(self) -> str: return 'zero'\n",
    "    def one(self, currency: str) -> str: return f'one {currency}'\n",
    "    def give(self, contract: Contract) -> str: return f'give ({self(contract)})'\n",
    "    def and_(self, contract1: Contract, contract2: Contract) -> str: return f'and ({self(contract1)}) ({self(contract2)})'\n",
    "    def or_(self, contract1: Contract, contract2: Contract) -> str: return f'or ({self(contract1)}) ({self(contract2)})'\n",
    "    def truncate(self, horizon: datetime, contract: Contract) -> str: return f'truncate \"{horizon}\" ({self(contract)})'\n",
    "    def then(self, contract1: Contract, contract2: Contract) -> str: return f'then ({self(contract1)}) ({self(contract2)})'\n",
    "    def scale(self, observable: Observable, contract: Contract) -> str: return f'scale {self.observable_visitor(observable)} ({self(contract)})'\n",
    "    def get(self, contract: Contract) -> str: return f'get ({self(contract)})'\n",
    "    def anytime(self, contract: Contract) -> str: return f'anytime ({self(contract)})'"
   ]
  },
  {
   "cell_type": "code",
   "execution_count": 10,
   "metadata": {},
   "outputs": [],
   "source": [
    "def scaleK(constant: float, contract: Contract):\n",
    "    return Scale(Konst(constant), contract)"
   ]
  },
  {
   "cell_type": "code",
   "execution_count": 11,
   "metadata": {},
   "outputs": [],
   "source": [
    "def zcb(maturity: datetime, notional: float, currency: str):\n",
    "    return scaleK(notional, Get(Truncate(maturity, One(currency))))"
   ]
  },
  {
   "cell_type": "code",
   "execution_count": 12,
   "metadata": {},
   "outputs": [],
   "source": [
    "def european(maturity: datetime, contract: Contract):\n",
    "    return Get(Truncate(maturity, Or(contract, Zero())))"
   ]
  },
  {
   "cell_type": "code",
   "execution_count": 13,
   "metadata": {},
   "outputs": [
    {
     "data": {
      "text/plain": [
       "Scale(observable=Konst(constant=1000000), contract=Get(contract=Truncate(horizon=datetime.datetime(2030, 7, 14, 0, 0), contract=One(currency='EUR'))))"
      ]
     },
     "execution_count": 13,
     "metadata": {},
     "output_type": "execute_result"
    }
   ],
   "source": [
    "mybond1 = zcb(datetime(2030, 7, 14), 1000000, 'EUR')\n",
    "mybond1"
   ]
  },
  {
   "cell_type": "code",
   "execution_count": 14,
   "metadata": {},
   "outputs": [
    {
     "data": {
      "text/plain": [
       "'scale 1000000 (get (truncate \"2030-07-14 00:00:00\" (one EUR)))'"
      ]
     },
     "execution_count": 14,
     "metadata": {},
     "output_type": "execute_result"
    }
   ],
   "source": [
    "ContractPrinter(ObservablePrinter())(mybond1)"
   ]
  },
  {
   "cell_type": "code",
   "execution_count": 15,
   "metadata": {},
   "outputs": [
    {
     "data": {
      "text/plain": [
       "{'observable': {'constant': 1000000},\n",
       " 'contract': {'contract': {'horizon': datetime.datetime(2030, 7, 14, 0, 0),\n",
       "   'contract': {'currency': 'EUR'}}}}"
      ]
     },
     "execution_count": 15,
     "metadata": {},
     "output_type": "execute_result"
    }
   ],
   "source": [
    "asdict(mybond1)"
   ]
  },
  {
   "cell_type": "code",
   "execution_count": 16,
   "metadata": {},
   "outputs": [
    {
     "data": {
      "text/plain": [
       "((1000000,), ((datetime.datetime(2030, 7, 14, 0, 0), ('EUR',)),))"
      ]
     },
     "execution_count": 16,
     "metadata": {},
     "output_type": "execute_result"
    }
   ],
   "source": [
    "astuple(mybond1)"
   ]
  },
  {
   "cell_type": "code",
   "execution_count": 17,
   "metadata": {},
   "outputs": [
    {
     "data": {
      "text/plain": [
       "{'observable': Konst(constant=1000000),\n",
       " 'contract': Get(contract=Truncate(horizon=datetime.datetime(2030, 7, 14, 0, 0), contract=One(currency='EUR')))}"
      ]
     },
     "execution_count": 17,
     "metadata": {},
     "output_type": "execute_result"
    }
   ],
   "source": [
    "dict(**mybond1.__dict__)"
   ]
  },
  {
   "cell_type": "code",
   "execution_count": 18,
   "metadata": {},
   "outputs": [],
   "source": [
    "def european_put(ticker: str, currency: str, maturity: datetime, strike: float):\n",
    "    return Get(Truncate(maturity, Or(Scale(Stock(ticker), One(currency)), scaleK(strike, One(currency)))))"
   ]
  },
  {
   "cell_type": "code",
   "execution_count": 19,
   "metadata": {},
   "outputs": [
    {
     "data": {
      "text/plain": [
       "Get(contract=Truncate(horizon=datetime.datetime(2030, 7, 14, 0, 0), contract=Or(contract1=Scale(observable=Stock(ticker='ABC Eqty'), contract=One(currency='USD')), contract2=Scale(observable=Konst(constant=123.45), contract=One(currency='USD')))))"
      ]
     },
     "execution_count": 19,
     "metadata": {},
     "output_type": "execute_result"
    }
   ],
   "source": [
    "myput1 = european_put('ABC Eqty', 'USD', datetime(2030, 7, 14), 123.45)\n",
    "myput1"
   ]
  },
  {
   "cell_type": "code",
   "execution_count": 20,
   "metadata": {},
   "outputs": [
    {
     "data": {
      "text/plain": [
       "'get (truncate \"2030-07-14 00:00:00\" (or (scale \"ABC Eqty\" (one USD)) (scale 123.45 (one USD))))'"
      ]
     },
     "execution_count": 20,
     "metadata": {},
     "output_type": "execute_result"
    }
   ],
   "source": [
    "ContractPrinter(ObservablePrinter())(myput1)"
   ]
  },
  {
   "cell_type": "code",
   "execution_count": 21,
   "metadata": {},
   "outputs": [],
   "source": [
    "import numpy as np"
   ]
  },
  {
   "cell_type": "code",
   "execution_count": 22,
   "metadata": {},
   "outputs": [],
   "source": [
    "class SimulationModel(ObservableVisitor[np.array]):\n",
    "    def konst(self, constant: float) -> np.array: raise NotImplementedError('konst')\n",
    "    def stock(self, ticker: str) -> np.array: raise NotImplementedError('stock')"
   ]
  },
  {
   "cell_type": "code",
   "execution_count": 23,
   "metadata": {},
   "outputs": [],
   "source": [
    "class Evaluator(ContractVisitor[np.array]):\n",
    "    \n",
    "    def __init__(self, model: SimulationModel):\n",
    "        self.model = model\n",
    "    \n",
    "    def zero(self) -> np.array: raise NotImplementedError('zero')\n",
    "    def one(self, currency: str) -> np.array: raise NotImplementedError('one')\n",
    "    def give(self, contract: Contract) -> np.array: raise NotImplementedError('give')\n",
    "    def and_(self, contract1: Contract, contract2: Contract) -> np.array: raise NotImplementedError('and_')\n",
    "    def or_(self, contract1: Contract, contract2: Contract) -> np.array: raise NotImplementedError('or_')\n",
    "    def truncate(self, horizon: datetime, contract: Contract) -> np.array: raise NotImplementedError('truncate')\n",
    "    def then(self, contract1: Contract, contract2: Contract) -> np.array: raise NotImplementedError('then')\n",
    "    def scale(self, observable: Observable, contract: Contract) -> np.array: raise NotImplementedError('scale')\n",
    "    def get(self, contract: Contract) -> np.array: raise NotImplementedError('get')\n",
    "    def anytime(self, contract: Contract) -> np.array: raise NotImplementedError('anytime')"
   ]
  },
  {
   "cell_type": "code",
   "execution_count": 24,
   "metadata": {},
   "outputs": [],
   "source": [
    "evaluator = Evaluator(SimulationModel())"
   ]
  },
  {
   "cell_type": "code",
   "execution_count": 25,
   "metadata": {},
   "outputs": [
    {
     "ename": "NotImplementedError",
     "evalue": "get",
     "output_type": "error",
     "traceback": [
      "\u001b[0;31m---------------------------------------------------------------------------\u001b[0m",
      "\u001b[0;31mNotImplementedError\u001b[0m                       Traceback (most recent call last)",
      "\u001b[0;32m<ipython-input-25-8abf5fabc15b>\u001b[0m in \u001b[0;36m<module>\u001b[0;34m\u001b[0m\n\u001b[0;32m----> 1\u001b[0;31m \u001b[0mevaluator\u001b[0m\u001b[0;34m(\u001b[0m\u001b[0mmyput1\u001b[0m\u001b[0;34m)\u001b[0m\u001b[0;34m\u001b[0m\u001b[0;34m\u001b[0m\u001b[0m\n\u001b[0m",
      "\u001b[0;32m<ipython-input-7-5a7bf90b6dda>\u001b[0m in \u001b[0;36m__call__\u001b[0;34m(self, contract)\u001b[0m\n\u001b[1;32m     51\u001b[0m             \u001b[0;32mreturn\u001b[0m \u001b[0mself\u001b[0m\u001b[0;34m.\u001b[0m\u001b[0mscale\u001b[0m\u001b[0;34m(\u001b[0m\u001b[0;34m**\u001b[0m\u001b[0mcontract\u001b[0m\u001b[0;34m.\u001b[0m\u001b[0m__dict__\u001b[0m\u001b[0;34m)\u001b[0m\u001b[0;34m\u001b[0m\u001b[0;34m\u001b[0m\u001b[0m\n\u001b[1;32m     52\u001b[0m         \u001b[0;32melif\u001b[0m \u001b[0misinstance\u001b[0m\u001b[0;34m(\u001b[0m\u001b[0mcontract\u001b[0m\u001b[0;34m,\u001b[0m \u001b[0mGet\u001b[0m\u001b[0;34m)\u001b[0m\u001b[0;34m:\u001b[0m\u001b[0;34m\u001b[0m\u001b[0;34m\u001b[0m\u001b[0m\n\u001b[0;32m---> 53\u001b[0;31m             \u001b[0;32mreturn\u001b[0m \u001b[0mself\u001b[0m\u001b[0;34m.\u001b[0m\u001b[0mget\u001b[0m\u001b[0;34m(\u001b[0m\u001b[0;34m**\u001b[0m\u001b[0mcontract\u001b[0m\u001b[0;34m.\u001b[0m\u001b[0m__dict__\u001b[0m\u001b[0;34m)\u001b[0m\u001b[0;34m\u001b[0m\u001b[0;34m\u001b[0m\u001b[0m\n\u001b[0m\u001b[1;32m     54\u001b[0m         \u001b[0;32melif\u001b[0m \u001b[0misinstance\u001b[0m\u001b[0;34m(\u001b[0m\u001b[0mcontract\u001b[0m\u001b[0;34m,\u001b[0m \u001b[0mAnytime\u001b[0m\u001b[0;34m)\u001b[0m\u001b[0;34m:\u001b[0m\u001b[0;34m\u001b[0m\u001b[0;34m\u001b[0m\u001b[0m\n\u001b[1;32m     55\u001b[0m             \u001b[0;32mreturn\u001b[0m \u001b[0mself\u001b[0m\u001b[0;34m.\u001b[0m\u001b[0manytime\u001b[0m\u001b[0;34m(\u001b[0m\u001b[0;34m**\u001b[0m\u001b[0mcontract\u001b[0m\u001b[0;34m.\u001b[0m\u001b[0m__dict__\u001b[0m\u001b[0;34m)\u001b[0m\u001b[0;34m\u001b[0m\u001b[0;34m\u001b[0m\u001b[0m\n",
      "\u001b[0;32m<ipython-input-23-69c26277569c>\u001b[0m in \u001b[0;36mget\u001b[0;34m(self, contract)\u001b[0m\n\u001b[1;32m     12\u001b[0m     \u001b[0;32mdef\u001b[0m \u001b[0mthen\u001b[0m\u001b[0;34m(\u001b[0m\u001b[0mself\u001b[0m\u001b[0;34m,\u001b[0m \u001b[0mcontract1\u001b[0m\u001b[0;34m:\u001b[0m \u001b[0mContract\u001b[0m\u001b[0;34m,\u001b[0m \u001b[0mcontract2\u001b[0m\u001b[0;34m:\u001b[0m \u001b[0mContract\u001b[0m\u001b[0;34m)\u001b[0m \u001b[0;34m->\u001b[0m \u001b[0mnp\u001b[0m\u001b[0;34m.\u001b[0m\u001b[0marray\u001b[0m\u001b[0;34m:\u001b[0m \u001b[0;32mraise\u001b[0m \u001b[0mNotImplementedError\u001b[0m\u001b[0;34m(\u001b[0m\u001b[0;34m'then'\u001b[0m\u001b[0;34m)\u001b[0m\u001b[0;34m\u001b[0m\u001b[0;34m\u001b[0m\u001b[0m\n\u001b[1;32m     13\u001b[0m     \u001b[0;32mdef\u001b[0m \u001b[0mscale\u001b[0m\u001b[0;34m(\u001b[0m\u001b[0mself\u001b[0m\u001b[0;34m,\u001b[0m \u001b[0mobservable\u001b[0m\u001b[0;34m:\u001b[0m \u001b[0mObservable\u001b[0m\u001b[0;34m,\u001b[0m \u001b[0mcontract\u001b[0m\u001b[0;34m:\u001b[0m \u001b[0mContract\u001b[0m\u001b[0;34m)\u001b[0m \u001b[0;34m->\u001b[0m \u001b[0mnp\u001b[0m\u001b[0;34m.\u001b[0m\u001b[0marray\u001b[0m\u001b[0;34m:\u001b[0m \u001b[0;32mraise\u001b[0m \u001b[0mNotImplementedError\u001b[0m\u001b[0;34m(\u001b[0m\u001b[0;34m'scale'\u001b[0m\u001b[0;34m)\u001b[0m\u001b[0;34m\u001b[0m\u001b[0;34m\u001b[0m\u001b[0m\n\u001b[0;32m---> 14\u001b[0;31m     \u001b[0;32mdef\u001b[0m \u001b[0mget\u001b[0m\u001b[0;34m(\u001b[0m\u001b[0mself\u001b[0m\u001b[0;34m,\u001b[0m \u001b[0mcontract\u001b[0m\u001b[0;34m:\u001b[0m \u001b[0mContract\u001b[0m\u001b[0;34m)\u001b[0m \u001b[0;34m->\u001b[0m \u001b[0mnp\u001b[0m\u001b[0;34m.\u001b[0m\u001b[0marray\u001b[0m\u001b[0;34m:\u001b[0m \u001b[0;32mraise\u001b[0m \u001b[0mNotImplementedError\u001b[0m\u001b[0;34m(\u001b[0m\u001b[0;34m'get'\u001b[0m\u001b[0;34m)\u001b[0m\u001b[0;34m\u001b[0m\u001b[0;34m\u001b[0m\u001b[0m\n\u001b[0m\u001b[1;32m     15\u001b[0m     \u001b[0;32mdef\u001b[0m \u001b[0manytime\u001b[0m\u001b[0;34m(\u001b[0m\u001b[0mself\u001b[0m\u001b[0;34m,\u001b[0m \u001b[0mcontract\u001b[0m\u001b[0;34m:\u001b[0m \u001b[0mContract\u001b[0m\u001b[0;34m)\u001b[0m \u001b[0;34m->\u001b[0m \u001b[0mnp\u001b[0m\u001b[0;34m.\u001b[0m\u001b[0marray\u001b[0m\u001b[0;34m:\u001b[0m \u001b[0;32mraise\u001b[0m \u001b[0mNotImplementedError\u001b[0m\u001b[0;34m(\u001b[0m\u001b[0;34m'anytime'\u001b[0m\u001b[0;34m)\u001b[0m\u001b[0;34m\u001b[0m\u001b[0;34m\u001b[0m\u001b[0m\n",
      "\u001b[0;31mNotImplementedError\u001b[0m: get"
     ]
    }
   ],
   "source": [
    "evaluator(myput1)"
   ]
  }
 ],
 "metadata": {
  "kernelspec": {
   "display_name": "Python 3",
   "language": "python",
   "name": "python3"
  },
  "language_info": {
   "codemirror_mode": {
    "name": "ipython",
    "version": 3
   },
   "file_extension": ".py",
   "mimetype": "text/x-python",
   "name": "python",
   "nbconvert_exporter": "python",
   "pygments_lexer": "ipython3",
   "version": "3.7.5"
  }
 },
 "nbformat": 4,
 "nbformat_minor": 4
}
